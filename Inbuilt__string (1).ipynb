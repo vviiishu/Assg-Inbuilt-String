{
 "cells": [
  {
   "cell_type": "markdown",
   "metadata": {
    "id": "l611NC6_j0BY"
   },
   "source": [
    "The len() function in Python is used to determine the length of an object, which can be a string, list, tuple, dictionary, etc. It returns the number of items in the object.\n",
    "\n",
    "When used with strings, len() returns the number of characters in the string, including spaces and punctuation."
   ]
  },
  {
   "cell_type": "code",
   "execution_count": 1,
   "metadata": {
    "colab": {
     "base_uri": "https://localhost:8080/",
     "height": 0
    },
    "id": "xn1elmjqj2fw",
    "outputId": "31f7d916-4551-4a20-fd5c-938784d12792"
   },
   "outputs": [
    {
     "name": "stdout",
     "output_type": "stream",
     "text": [
      "13\n"
     ]
    }
   ],
   "source": [
    "my_string = \"Hello, world!\"\n",
    "print(len(my_string))\n"
   ]
  },
  {
   "cell_type": "markdown",
   "metadata": {
    "id": "3JgBCnuykiIR"
   },
   "source": [
    "In Python, we can concatenate two or more strings using the + operator or by using the str.join() method. Here's how we can do it with both methods:\n"
   ]
  },
  {
   "cell_type": "code",
   "execution_count": 2,
   "metadata": {
    "colab": {
     "base_uri": "https://localhost:8080/",
     "height": 0
    },
    "id": "fPS8gqRFkkCD",
    "outputId": "1a435862-483f-46cf-9bba-10749b5d19ce"
   },
   "outputs": [
    {
     "name": "stdout",
     "output_type": "stream",
     "text": [
      "Hello world\n"
     ]
    }
   ],
   "source": [
    "str1 = \"Hello\"\n",
    "str2 = \"world\"\n",
    "concatenated_str = str1 + \" \" + str2\n",
    "print(concatenated_str)\n"
   ]
  },
  {
   "cell_type": "code",
   "execution_count": 3,
   "metadata": {
    "colab": {
     "base_uri": "https://localhost:8080/",
     "height": 0
    },
    "id": "5XoTCQ7Xk0uf",
    "outputId": "f65c315d-6b00-4514-d790-9b11bf8ae0b8"
   },
   "outputs": [
    {
     "name": "stdout",
     "output_type": "stream",
     "text": [
      "Hello world\n"
     ]
    }
   ],
   "source": [
    "str_list = [\"Hello\", \"world\"]\n",
    "concatenated_str = \" \".join(str_list)\n",
    "print(concatenated_str)  # Output: Hello world\n"
   ]
  },
  {
   "cell_type": "markdown",
   "metadata": {
    "id": "kAoy97fhlKVv"
   },
   "source": [
    "String slicing in Python is the process of extracting a substring (a portion) from a string by specifying a range of indices.\n",
    "\n"
   ]
  },
  {
   "cell_type": "code",
   "execution_count": 4,
   "metadata": {
    "colab": {
     "base_uri": "https://localhost:8080/",
     "height": 0
    },
    "id": "s3IVmxFRlQB7",
    "outputId": "3b22d17f-d59f-4f75-f7b3-fcfa9e4a2158"
   },
   "outputs": [
    {
     "name": "stdout",
     "output_type": "stream",
     "text": [
      "world\n"
     ]
    }
   ],
   "source": [
    "my_string = \"Hello, world!\"\n",
    "substring = my_string[7:12]\n",
    "print(substring)\n"
   ]
  },
  {
   "cell_type": "markdown",
   "metadata": {
    "id": "XoOZDvDilsra"
   },
   "source": [
    "n Python, we\n",
    " can change the case of a string using the upper() method to convert it to uppercase and the lower() method to convert it to lowercase.\n"
   ]
  },
  {
   "cell_type": "code",
   "execution_count": 10,
   "metadata": {
    "colab": {
     "base_uri": "https://localhost:8080/",
     "height": 0
    },
    "id": "YiDVIsEmlyof",
    "outputId": "5d7cb13a-0913-4fa2-eab3-3833beceeadb"
   },
   "outputs": [
    {
     "name": "stdout",
     "output_type": "stream",
     "text": [
      "HELLO WORLD\n"
     ]
    }
   ],
   "source": [
    "my_string = \"Hello world\"\n",
    "uppercase_string = my_string.upper()\n",
    "print(uppercase_string)\n"
   ]
  },
  {
   "cell_type": "code",
   "execution_count": 11,
   "metadata": {
    "colab": {
     "base_uri": "https://localhost:8080/",
     "height": 0
    },
    "id": "R4gF8iSTl1Bc",
    "outputId": "98b745e8-e6d4-46fd-b953-3ec7e85096c0"
   },
   "outputs": [
    {
     "name": "stdout",
     "output_type": "stream",
     "text": [
      "hello world\n"
     ]
    }
   ],
   "source": [
    "my_string = \"Hello world\"\n",
    "lowercase_string = my_string.lower()\n",
    "print(lowercase_string)\n"
   ]
  },
  {
   "cell_type": "markdown",
   "metadata": {
    "id": "9eQGP9WNmcI7"
   },
   "source": [
    "In Python, the split() method is used to split a string into a list of substrings based on a specified delimiter. By default, if no delimiter is provided, the method splits the string based on whitespace characters (spaces, tabs, newlines). However, we\n",
    " can specify a custom delimiter as an argument to the method."
   ]
  },
  {
   "cell_type": "code",
   "execution_count": 12,
   "metadata": {
    "colab": {
     "base_uri": "https://localhost:8080/",
     "height": 0
    },
    "id": "iuToxr_fmfik",
    "outputId": "ddd2299f-289f-4cf8-dd8d-17690b25ef6d"
   },
   "outputs": [
    {
     "name": "stdout",
     "output_type": "stream",
     "text": [
      "['apple', 'banana', 'orange']\n"
     ]
    }
   ],
   "source": [
    "my_string = \"apple,banana,orange\"\n",
    "split_list = my_string.split(\",\")\n",
    "print(split_list)\n"
   ]
  }
 ],
 "metadata": {
  "colab": {
   "provenance": []
  },
  "kernelspec": {
   "display_name": "Python 3 (ipykernel)",
   "language": "python",
   "name": "python3"
  },
  "language_info": {
   "codemirror_mode": {
    "name": "ipython",
    "version": 3
   },
   "file_extension": ".py",
   "mimetype": "text/x-python",
   "name": "python",
   "nbconvert_exporter": "python",
   "pygments_lexer": "ipython3",
   "version": "3.10.8"
  }
 },
 "nbformat": 4,
 "nbformat_minor": 4
}
